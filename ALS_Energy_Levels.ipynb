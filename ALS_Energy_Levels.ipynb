{
 "cells": [
  {
   "cell_type": "code",
   "execution_count": 1,
   "metadata": {
    "id": "oGych7kv5yEe"
   },
   "outputs": [],
   "source": [
    "#importing part\n",
    "\n",
    "import numpy as np\n",
    "import tt\n",
    "from tt.eigb import *\n",
    "\n",
    "from scipy import optimize as opt\n",
    "from sklearn.cluster import DBSCAN\n",
    "import matplotlib.pyplot as plt"
   ]
  },
  {
   "cell_type": "code",
   "execution_count": 2,
   "metadata": {
    "id": "GJU_MYYWuvlK"
   },
   "outputs": [],
   "source": [
    "def J_gen(L,j1,j2):\n",
    "    J = np.zeros((L*L, L*L))\n",
    "    for i in range(L):\n",
    "        for j in range(L):\n",
    "            J[i * L + j, i * L + ((j + 1) % L)] = j1\n",
    "            J[i * L + j, ((i + 1) % L) * L + j] = j1\n",
    "            J[i * L + j, ((i + 1) % L) * L + ((j + 1) % L)] = j2\n",
    "            J[i * L + j, ((i + 1) % L) * L + ((j - 1) % L)] = j2\n",
    "    J = 0.5 * (J + J.T)\n",
    "    return J\n",
    "\n",
    "def H_gen(J):\n",
    "    def H_f(n):\n",
    "        a = []\n",
    "        for m in n:\n",
    "            m = int(m)\n",
    "            s = np.array([(m // 2**i) % 2 for i in range(N)]) - 0.5 * np.ones(N)\n",
    "            a.append(-1 * (s.T @ J @ s))\n",
    "        return a\n",
    "\n",
    "    N = J.shape[0]\n",
    "    x = tt.xfun(n = 2, d = N)\n",
    "    H = tt.multifuncrs([x], H_f, 1e-8, y0 = tt.rand(n = 2, d = N), verb = 0, rmax = 15)\n",
    "    H = tt.diag(H)\n",
    "    return(H)\n",
    "\n",
    "def X_gen(n):\n",
    "    head = np.zeros((1,2,2,2))\n",
    "    head[0,0,0,0] = 1\n",
    "    head[0,1,1,0] = 1\n",
    "    head[0,1,0,1] = 1\n",
    "    head[0,0,1,1] = 1\n",
    "\n",
    "    body = np.zeros((2,2,2,2))\n",
    "    body[0,0,0,0] = 1\n",
    "    body[0,1,1,0] = 1\n",
    "    body[0,0,1,1] = 1\n",
    "    body[0,1,0,1] = 1\n",
    "    body[1,0,0,1] = 1\n",
    "    body[1,1,1,1] = 1\n",
    "\n",
    "    tail = np.zeros((2,2,2,1))\n",
    "    tail[0,1,0,0] = 1\n",
    "    tail[0,0,1,0] = 1\n",
    "    tail[1,0,0,0] = 1\n",
    "    tail[1,1,1,0] = 1\n",
    "\n",
    "    a = [head]\n",
    "    for i in range(n-2):\n",
    "        a.append(body)\n",
    "    a.append(tail)\n",
    "    result = tt.matrix.from_list(a)\n",
    "    return result\n",
    "\n",
    "def project_gen(state):\n",
    "    a = tt.vector.to_list(state)\n",
    "    b = []\n",
    "    c = []\n",
    "    for x in a:\n",
    "        shape = x.shape\n",
    "        b.append(x.reshape(shape[0],shape[1],-1,shape[2]))\n",
    "        c.append((x[:,::-1,:]).reshape(shape[0],shape[1],-1,shape[2]))\n",
    "    M1 = tt.matrix.from_list(b)\n",
    "    M2 = tt.matrix.from_list(c)\n",
    "    return M1 @ M1.T\n",
    "    #return M1 @ M1.T + M2 @ M2.T\n",
    "\n",
    "def get_data_ALS(L, Kappa, Field, N, M):\n",
    "    j1 = 1 \n",
    "    j2 = -1 * Kappa\n",
    "\n",
    "    H_x = X_gen(L*L)\n",
    "    J = J_gen(L, j1, j2)\n",
    "    H = H_gen(J)\n",
    "    \n",
    "    a = []\n",
    "    for i in range(N):\n",
    "        Field = 1 * (1 - (i + 1) / N)\n",
    "        b = []\n",
    "        H_proj = 0 * project_gen(tt.rand(n = 2, d = L * L, r = 2))\n",
    "\n",
    "        for j in range(M):\n",
    "            x = tt.rand(n = 2, d = L * L, r = 2)\n",
    "            y, lam = eigb(H + Field * H_x + 100 * H_proj, x, 1e-14,verb = 0, nswp = 30)\n",
    "            H_proj = H_proj + project_gen(y)\n",
    "            b.append(float(lam))\n",
    "        a.append(np.sort(b))\n",
    "        if( (i+1) % (10) == 0): print((i+1), \"/\", N)\n",
    "    a = (1/ L * L) * np.array(a).T\n",
    "    return a\n",
    "\n",
    "def clasterization(array, eps):\n",
    "    N = array.shape[0]\n",
    "    X = np.array([(1/N) * np.array(range(N)), array]).T\n",
    "    clusteringX = DBSCAN(eps = eps, min_samples=2).fit(X)\n",
    "    b = []\n",
    "    for i in range(N):\n",
    "        if(clusteringX.labels_[i] == 0):\n",
    "            b.append(X[i])\n",
    "    return ((np.array(b).T)[0], (np.array(b).T)[1])\n",
    "    "
   ]
  },
  {
   "cell_type": "code",
   "execution_count": 21,
   "metadata": {},
   "outputs": [
    {
     "name": "stdout",
     "output_type": "stream",
     "text": [
      "10 / 100\n",
      "20 / 100\n",
      "30 / 100\n",
      "40 / 100\n",
      "50 / 100\n",
      "60 / 100\n",
      "70 / 100\n",
      "80 / 100\n",
      "90 / 100\n",
      "100 / 100\n"
     ]
    }
   ],
   "source": [
    "a = get_data_ALS(L = 5, Kappa = 0.25, Field = 1, N = 100, M = 3)"
   ]
  },
  {
   "cell_type": "code",
   "execution_count": 22,
   "metadata": {
    "colab": {
     "base_uri": "https://localhost:8080/",
     "height": 264
    },
    "id": "KnTbB9qR-P7L",
    "outputId": "55b4bbc7-ab4c-45e1-dab2-58fc275b8543",
    "scrolled": true
   },
   "outputs": [
    {
     "data": {
      "image/png": "[encoded data removed]",
      "text/plain": [
       "<Figure size 432x288 with 1 Axes>"
      ]
     },
     "metadata": {
      "needs_background": "light"
     },
     "output_type": "display_data"
    }
   ],
   "source": [
    "N = 100\n",
    "K = 1\n",
    "for x in a:\n",
    "    plt.plot( (1 / (N - K + 1)) * np.array(range(N - K + 1)), np.convolve(x, np.ones(K)/K, mode='valid'))\n"
   ]
  },
  {
   "cell_type": "code",
   "execution_count": 24,
   "metadata": {
    "scrolled": true
   },
   "outputs": [
    {
     "data": {
      "text/plain": [
       "[<matplotlib.lines.Line2D at 0x7f5bec77fd68>]"
      ]
     },
     "execution_count": 24,
     "metadata": {},
     "output_type": "execute_result"
    },
    {
     "data": {
      "image/png": "[encoded data removed]",
      "text/plain": [
       "<Figure size 432x288 with 1 Axes>"
      ]
     },
     "metadata": {
      "needs_background": "light"
     },
     "output_type": "display_data"
    }
   ],
   "source": [
    "b = clasterization(array = a[1] - a[0], eps = 0.2)\n",
    "c = clasterization(array = a[2] - a[0], eps = 0.2)\n",
    "\n",
    "plt.scatter(b[0],b[1])\n",
    "plt.scatter(c[0],c[1])\n",
    "plt.plot((1/N) * np.array(range(N)), np.zeros(N))"
   ]
  },
  {
   "cell_type": "code",
   "execution_count": 6,
   "metadata": {
    "scrolled": false
   },
   "outputs": [
    {
     "name": "stdout",
     "output_type": "stream",
     "text": [
      "[[-8.75]\n",
      " [-8.75]\n",
      " [-7.35]]\n"
     ]
    }
   ],
   "source": [
    "print(get_data_ALS(L = 5, Kappa = 0.3, Field = 0, N = 1, M = 3))"
   ]
  }
 ],
 "metadata": {
  "colab": {
   "collapsed_sections": [],
   "name": "ClassicalSolution.ipynb",
   "provenance": []
  },
  "kernelspec": {
   "display_name": "Python 3",
   "language": "python",
   "name": "python3"
  },
  "language_info": {
   "codemirror_mode": {
    "name": "ipython",
    "version": 3
   },
   "file_extension": ".py",
   "mimetype": "text/x-python",
   "name": "python",
   "nbconvert_exporter": "python",
   "pygments_lexer": "ipython3",
   "version": "3.6.9"
  }
 },
 "nbformat": 4,
 "nbformat_minor": 1
}

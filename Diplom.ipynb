{
  "cells": [
    {
      "cell_type": "markdown",
      "metadata": {
        "id": "view-in-github",
        "colab_type": "text"
      },
      "source": [
        "<a href=\"https://colab.research.google.com/github/HoiAlice/test/blob/master/Diplom.ipynb\" target=\"_parent\"><img src=\"https://colab.research.google.com/assets/colab-badge.svg\" alt=\"Open In Colab\"/></a>"
      ]
    },
    {
      "cell_type": "code",
      "execution_count": null,
      "metadata": {
        "colab": {
          "base_uri": "https://localhost:8080/"
        },
        "id": "ouxif6rLUcU5",
        "outputId": "7455c363-7b05-492a-e0a4-d4d4f44ca15c"
      },
      "outputs": [
        {
          "name": "stdout",
          "output_type": "stream",
          "text": [
            "Collecting ttpy\n",
            "  Downloading ttpy-1.2.1.tar.gz (317 kB)\n",
            "\u001b[?25l\r\u001b[K     |█                               | 10 kB 19.0 MB/s eta 0:00:01\r\u001b[K     |██                              | 20 kB 23.1 MB/s eta 0:00:01\r\u001b[K     |███                             | 30 kB 26.7 MB/s eta 0:00:01\r\u001b[K     |████▏                           | 40 kB 26.7 MB/s eta 0:00:01\r\u001b[K     |█████▏                          | 51 kB 12.6 MB/s eta 0:00:01\r\u001b[K     |██████▏                         | 61 kB 14.0 MB/s eta 0:00:01\r\u001b[K     |███████▎                        | 71 kB 9.9 MB/s eta 0:00:01\r\u001b[K     |████████▎                       | 81 kB 10.8 MB/s eta 0:00:01\r\u001b[K     |█████████▎                      | 92 kB 9.6 MB/s eta 0:00:01\r\u001b[K     |██████████▎                     | 102 kB 10.0 MB/s eta 0:00:01\r\u001b[K     |███████████▍                    | 112 kB 10.0 MB/s eta 0:00:01\r\u001b[K     |████████████▍                   | 122 kB 10.0 MB/s eta 0:00:01\r\u001b[K     |█████████████▍                  | 133 kB 10.0 MB/s eta 0:00:01\r\u001b[K     |██████████████▌                 | 143 kB 10.0 MB/s eta 0:00:01\r\u001b[K     |███████████████▌                | 153 kB 10.0 MB/s eta 0:00:01\r\u001b[K     |████████████████▌               | 163 kB 10.0 MB/s eta 0:00:01\r\u001b[K     |█████████████████▋              | 174 kB 10.0 MB/s eta 0:00:01\r\u001b[K     |██████████████████▋             | 184 kB 10.0 MB/s eta 0:00:01\r\u001b[K     |███████████████████▋            | 194 kB 10.0 MB/s eta 0:00:01\r\u001b[K     |████████████████████▋           | 204 kB 10.0 MB/s eta 0:00:01\r\u001b[K     |█████████████████████▊          | 215 kB 10.0 MB/s eta 0:00:01\r\u001b[K     |██████████████████████▊         | 225 kB 10.0 MB/s eta 0:00:01\r\u001b[K     |███████████████████████▊        | 235 kB 10.0 MB/s eta 0:00:01\r\u001b[K     |████████████████████████▉       | 245 kB 10.0 MB/s eta 0:00:01\r\u001b[K     |█████████████████████████▉      | 256 kB 10.0 MB/s eta 0:00:01\r\u001b[K     |██████████████████████████▉     | 266 kB 10.0 MB/s eta 0:00:01\r\u001b[K     |████████████████████████████    | 276 kB 10.0 MB/s eta 0:00:01\r\u001b[K     |█████████████████████████████   | 286 kB 10.0 MB/s eta 0:00:01\r\u001b[K     |██████████████████████████████  | 296 kB 10.0 MB/s eta 0:00:01\r\u001b[K     |███████████████████████████████ | 307 kB 10.0 MB/s eta 0:00:01\r\u001b[K     |████████████████████████████████| 317 kB 10.0 MB/s \n",
            "\u001b[?25hBuilding wheels for collected packages: ttpy\n",
            "  Building wheel for ttpy (setup.py) ... \u001b[?25l\u001b[?25hdone\n",
            "  Created wheel for ttpy: filename=ttpy-1.2.1-cp37-cp37m-linux_x86_64.whl size=2951704 sha256=fc5e8e3ab112953960b7cc2af9155808238f12b373b19cfd57bfd4127b6f00c0\n",
            "  Stored in directory: /root/.cache/pip/wheels/1c/45/02/9593e1923b244554f33e29be39b1413772acac8c8a1ba30596\n",
            "Successfully built ttpy\n",
            "Installing collected packages: ttpy\n",
            "Successfully installed ttpy-1.2.1\n"
          ]
        }
      ],
      "source": [
        "pip install ttpy"
      ]
    },
    {
      "cell_type": "code",
      "execution_count": null,
      "metadata": {
        "colab": {
          "base_uri": "https://localhost:8080/"
        },
        "id": "UgPmaXsRo9fa",
        "outputId": "2255566a-2673-4dd6-c2fc-d5046338f090"
      },
      "outputs": [
        {
          "name": "stdout",
          "output_type": "stream",
          "text": [
            "Collecting ncon\n",
            "  Downloading ncon-1.0.0-py3-none-any.whl (7.8 kB)\n",
            "Requirement already satisfied: numpy>=1.11.0 in /usr/local/lib/python3.7/dist-packages (from ncon) (1.19.5)\n",
            "Installing collected packages: ncon\n",
            "Successfully installed ncon-1.0.0\n"
          ]
        }
      ],
      "source": [
        "pip install ncon"
      ]
    },
    {
      "cell_type": "code",
      "execution_count": null,
      "metadata": {
        "colab": {
          "base_uri": "https://localhost:8080/"
        },
        "id": "_qTaxDrqo--U",
        "outputId": "64121f6c-2d43-4225-f65f-a08abd54d6c2"
      },
      "outputs": [
        {
          "name": "stdout",
          "output_type": "stream",
          "text": [
            "Collecting progress\n",
            "  Downloading progress-1.6.tar.gz (7.8 kB)\n",
            "Building wheels for collected packages: progress\n",
            "  Building wheel for progress (setup.py) ... \u001b[?25l\u001b[?25hdone\n",
            "  Created wheel for progress: filename=progress-1.6-py3-none-any.whl size=9628 sha256=7c2e2d70bcfdb4c4aaddc0e1d7a8a640ea4910fb41dfda6cfe5ebf22660ea596\n",
            "  Stored in directory: /root/.cache/pip/wheels/8e/d7/61/498d8e27dc11e9805b01eb3539e2ee344436fc226daeb5fe87\n",
            "Successfully built progress\n",
            "Installing collected packages: progress\n",
            "Successfully installed progress-1.6\n"
          ]
        }
      ],
      "source": [
        "pip install progress"
      ]
    },
    {
      "cell_type": "code",
      "execution_count": null,
      "metadata": {
        "id": "NFqA5LHuUfSI"
      },
      "outputs": [],
      "source": [
        "import tt\n",
        "import numpy as np\n",
        "from numpy import linalg as la\n",
        "from tt.amen import amen_solve\n",
        "import matplotlib.pyplot as plt\n",
        "from scipy.special import factorial\n",
        "from ncon import ncon"
      ]
    },
    {
      "cell_type": "markdown",
      "metadata": {
        "id": "wyStMwr6o0MP"
      },
      "source": [
        "#Играемся с типовыми объектами"
      ]
    },
    {
      "cell_type": "code",
      "execution_count": null,
      "metadata": {
        "colab": {
          "base_uri": "https://localhost:8080/"
        },
        "id": "y5RtMaCootiS",
        "outputId": "a32ac2ac-87b9-4bb8-ee33-7c81ed99376e"
      },
      "outputs": [
        {
          "name": "stdout",
          "output_type": "stream",
          "text": [
            "[0. 0. 0. 0. 0. 0. 0. 0. 0. 0. 0. 0. 0. 0. 0. 1.]\n",
            "[1. 1. 1. 1. 1. 1. 1. 1. 1. 1. 1. 1. 1. 1. 1. 1.]\n",
            "[[0. 1. 0. 0.]\n",
            " [1. 0. 0. 0.]\n",
            " [0. 0. 0. 1.]\n",
            " [0. 0. 1. 0.]]\n",
            "[[0. 0. 1. 0.]\n",
            " [0. 0. 0. 1.]\n",
            " [1. 0. 0. 0.]\n",
            " [0. 1. 0. 0.]]\n",
            " \n",
            "[0. 1. 0. 0. 0. 0. 0. 0. 0. 0. 0. 0. 0. 0. 0. 0.]\n",
            "[[[0.]\n",
            "  [1.]]]\n",
            "[[1. 1. 1. 1. 1. 0. 0. 0. 0. 0. 0. 0. 0. 0. 0. 0.]\n",
            " [0. 1. 1. 1. 1. 1. 0. 0. 0. 0. 0. 0. 0. 0. 0. 0.]\n",
            " [0. 0. 1. 1. 1. 1. 1. 0. 0. 0. 0. 0. 0. 0. 0. 0.]\n",
            " [0. 0. 0. 1. 1. 1. 1. 1. 0. 0. 0. 0. 0. 0. 0. 0.]\n",
            " [0. 0. 0. 0. 1. 1. 1. 1. 1. 0. 0. 0. 0. 0. 0. 0.]\n",
            " [0. 0. 0. 0. 0. 1. 1. 1. 1. 1. 0. 0. 0. 0. 0. 0.]\n",
            " [0. 0. 0. 0. 0. 0. 1. 1. 1. 1. 1. 0. 0. 0. 0. 0.]\n",
            " [0. 0. 0. 0. 0. 0. 0. 1. 1. 1. 1. 1. 0. 0. 0. 0.]\n",
            " [0. 0. 0. 0. 0. 0. 0. 0. 1. 1. 1. 1. 1. 0. 0. 0.]\n",
            " [0. 0. 0. 0. 0. 0. 0. 0. 0. 1. 1. 1. 1. 1. 0. 0.]\n",
            " [0. 0. 0. 0. 0. 0. 0. 0. 0. 0. 1. 1. 1. 1. 1. 0.]\n",
            " [0. 0. 0. 0. 0. 0. 0. 0. 0. 0. 0. 1. 1. 1. 1. 1.]\n",
            " [0. 0. 0. 0. 0. 0. 0. 0. 0. 0. 0. 0. 1. 1. 1. 1.]\n",
            " [0. 0. 0. 0. 0. 0. 0. 0. 0. 0. 0. 0. 0. 1. 1. 1.]\n",
            " [0. 0. 0. 0. 0. 0. 0. 0. 0. 0. 0. 0. 0. 0. 1. 1.]\n",
            " [0. 0. 0. 0. 0. 0. 0. 0. 0. 0. 0. 0. 0. 0. 0. 1.]]\n"
          ]
        }
      ],
      "source": [
        "delta = tt.delta(n = 2, d = 4, center = 15) \n",
        "print(np.diag(tt.diag(delta).full())) \n",
        "\n",
        "ones = tt.ones(n = 2, d = 4)\n",
        "print(np.diag(tt.diag(ones).full())) \n",
        "\n",
        "sigma = tt.matrix(a = np.array([[0,1],[1,0]]))\n",
        "print(tt.kron(sigma, tt.eye(n = 2, d = 1)).full()) # какого? аффтор перепутал порядок \n",
        "print(np.kron(np.array([[0,1],[1,0]]), np.eye(2)))\n",
        "print(\" \")\n",
        "c1 = 1\n",
        "c2 = 0\n",
        "A = tt.delta(n = 2, d = 2, center = c1)\n",
        "B = tt.delta(n = 2, d = 2, center = c2)\n",
        "print(np.diag(tt.diag(tt.kron(A, B)).full()))\n",
        "print(tt.vector.to_list(tt.kron(A, B))[0])\n",
        "d = 4\n",
        "center = 2**(d)\n",
        "shift = 5\n",
        "print( tt.Toeplitz(x = tt.stepfun(n = 2, d = d + 1, center = center) - tt.stepfun(n = 2, d = d + 1, center = center + shift), d = d).full() )"
      ]
    },
    {
      "cell_type": "markdown",
      "metadata": {
        "id": "z-HTMaekkVMh"
      },
      "source": [
        "#Кубит во внешнем классическом поле "
      ]
    },
    {
      "cell_type": "markdown",
      "metadata": {
        "id": "JQ3UT8wf1S1d"
      },
      "source": [
        "Постоянное поле"
      ]
    },
    {
      "cell_type": "code",
      "execution_count": null,
      "metadata": {
        "colab": {
          "base_uri": "https://localhost:8080/",
          "height": 265
        },
        "id": "QHCbgxWhoxBO",
        "outputId": "0600d0be-2f52-4d5a-c4c6-092094fd3de9"
      },
      "outputs": [
        {
          "data": {
            "image/png": "[encoded data removed]",
            "text/plain": [
              "<Figure size 432x288 with 1 Axes>"
            ]
          },
          "metadata": {},
          "output_type": "display_data"
        }
      ],
      "source": [
        "T = 10\n",
        "N = 12\n",
        "dt = T/2**N\n",
        "\n",
        "H_0 = tt.matrix(np.array([[0,1],[1,0]]))\n",
        "psi_0 = tt.vector(np.array([1,0]))\n",
        "def G_t(d):\n",
        "  return tt.Toeplitz(tt.delta(n = 2, d = d + 1 , center = 2**d) - tt.delta(n = 2, d = d + 1 , center = 2**d - 1))\n",
        "\n",
        "def M_t(d):\n",
        "  return tt.Toeplitz(tt.delta(n = 2, d = d + 1 , center = 2**d) + tt.delta(n = 2, d = d + 1 , center = 2**d - 1))\n",
        "\n",
        "A = tt.kron(tt.eye(n = 2, d = 1), G_t(N)) + (1j*dt /2) * tt.kron(H_0, M_t(N))\n",
        "b = tt.kron(psi_0, tt.delta(n = 2, d = N, center = 0))\n",
        "\n",
        "y = amen_solve(A = A, f = b, x0 = tt.ones(n = 2, d = N + 1), kickrank = 15, eps = 1e-8)\n",
        "\n",
        "def T_t(d, t):\n",
        "  return tt.kron(tt.matrix(np.array([[1,0],[0,-1]])), tt.diag(tt.delta(n = 2, d = d, center = t)))\n",
        "\n",
        "a = [ np.real(tt.dot(y, tt.matvec(T_t(N,t), y))) for t in range(2**N) ] #заниает оч много времени\n",
        "plt.plot(range(2**N), a)\n",
        "plt.show()"
      ]
    },
    {
      "cell_type": "markdown",
      "metadata": {
        "id": "3JdFiEe21WaH"
      },
      "source": [
        "переменное поле"
      ]
    },
    {
      "cell_type": "code",
      "execution_count": null,
      "metadata": {
        "colab": {
          "base_uri": "https://localhost:8080/",
          "height": 265
        },
        "id": "tPwuo3So1YLC",
        "outputId": "c28ae328-0315-44ef-cb4d-5acc0be69a5c"
      },
      "outputs": [
        {
          "data": {
            "image/png": "[encoded data removed]",
            "text/plain": [
              "<Figure size 432x288 with 1 Axes>"
            ]
          },
          "metadata": {},
          "output_type": "display_data"
        }
      ],
      "source": [
        "T = 100\n",
        "N = 12\n",
        "dt = T/2**N\n",
        "\n",
        "w = 10\n",
        "Delta = 0.3\n",
        "g = 0.1\n",
        "\n",
        "H_0 = w * tt.matrix(np.array([[1,0],[0,0]]))\n",
        "psi_0 = tt.vector(np.array([1,0]))\n",
        "\n",
        "def G_t(d):\n",
        "  return tt.Toeplitz(tt.delta(n = 2, d = d + 1 , center = 2**d) - tt.delta(n = 2, d = d + 1 , center = 2**d - 1))\n",
        "\n",
        "def M_t(d):\n",
        "  return tt.Toeplitz(tt.delta(n = 2, d = d + 1 , center = 2**d) + tt.delta(n = 2, d = d + 1 , center = 2**d - 1))\n",
        "\n",
        "A = (\n",
        "    tt.kron(tt.eye(n = 2, d = 1), G_t(N)) + (1j*dt /2) * tt.kron(H_0, M_t(N)) + \n",
        "    g * (1j*dt /2) * tt.kron(tt.matrix(np.array([[0,1],[1,0]])), M_t(N) @ tt.diag(tt.sin( d = N, alpha = (w + Delta)*dt, phase = 0.0)))\n",
        "    )\n",
        "b = tt.kron(psi_0, tt.delta(n = 2, d = N, center = 0))\n",
        "\n",
        "y = amen_solve(A = A, f = b, x0 = tt.ones(n = 2, d = N + 1), kickrank = 15, eps = 1e-8)\n",
        "\n",
        "def T_t(d, t):\n",
        "  return tt.kron(tt.matrix(np.array([[1,0],[0,0]])), tt.diag(tt.delta(n = 2, d = d, center = t)))\n",
        "\n",
        "a = [ np.real(tt.dot(y, tt.matvec(T_t(N,t), y))) for t in range(2**N) ] #заниает оч много времени\n",
        "plt.plot(range(2**N), a)\n",
        "plt.show()"
      ]
    },
    {
      "cell_type": "markdown",
      "metadata": {
        "id": "zEyGAtdF9zGZ"
      },
      "source": [
        "#Кубит в резонаторе"
      ]
    },
    {
      "cell_type": "code",
      "execution_count": null,
      "metadata": {
        "colab": {
          "base_uri": "https://localhost:8080/",
          "height": 508
        },
        "id": "pbs6k6dO97Qs",
        "outputId": "dd656a0c-bc2c-4ed7-92d7-328dff7935f2"
      },
      "outputs": [
        {
          "name": "stdout",
          "output_type": "stream",
          "text": [
            "=multifuncrs= sweep 1{2}, max_dy: 9.998e-01, erank: 1.89737\n",
            "=multifuncrs= sweep 2{1}, max_dy: 4.042e-02, erank: 3.36155\n",
            "=multifuncrs= sweep 2{2}, max_dy: 4.042e-02, erank: 4.24264\n",
            "=multifuncrs= sweep 3{1}, max_dy: 4.579e-16, erank: 5.01996\n",
            "=multifuncrs= sweep 3{2}, max_dy: 4.579e-16, erank: 5.35724\n",
            "=multifuncrs= sweep 4{1}, max_dy: 0.000e+00, erank: 1.89737\n",
            "=multifuncrs= sweep 1{2}, max_dy: 9.501e-01, erank: 1.89737\n",
            "=multifuncrs= sweep 2{1}, max_dy: 5.689e-02, erank: 3.20936\n",
            "=multifuncrs= sweep 2{2}, max_dy: 5.689e-02, erank: 5.44977\n",
            "=multifuncrs= sweep 3{1}, max_dy: 4.823e-07, erank: 7.34166\n",
            "=multifuncrs= sweep 3{2}, max_dy: 4.823e-07, erank: 7.70714\n",
            "=multifuncrs= sweep 4{1}, max_dy: 5.097e-10, erank: 7.64199\n",
            "=multifuncrs= sweep 4{2}, max_dy: 5.097e-10, erank: 7.70714\n",
            "=multifuncrs= sweep 5{1}, max_dy: 0.000e+00, erank: 4.60435\n"
          ]
        },
        {
          "data": {
            "image/png": "[encoded data removed]",
            "text/plain": [
              "<Figure size 432x288 with 1 Axes>"
            ]
          },
          "metadata": {},
          "output_type": "display_data"
        }
      ],
      "source": [
        "#Брал в фоковском базисе. Проблема - большой ранг у X. В квадратурах вообще не заработало...\n",
        "\n",
        "def X_hat(d): \n",
        "  x = tt.xfun(n = 2, d = d)\n",
        "  x = tt.multifuncrs([x], lambda x : np.sqrt(x), 1e-8, y0=tt.ones(n = 2, d = d))\n",
        "  x = tt.diag(x)\n",
        "  x = x * tt.Toeplitz(tt.delta(n = 2, d = d + 1 , center = 2**d - 1)) + tt.Toeplitz(tt.delta(n = 2, d = d + 1 , center = 2**d + 1)) * x\n",
        "  return x\n",
        "\n",
        "def H_r(d,w,e): # в первом приближении малости e\n",
        "  x = tt.xfun(n = 2, d = d)\n",
        "  x = tt.multifuncrs([x], lambda x : w*x - e*x*x, 1e-8, y0=tt.ones(n = 2, d = d))\n",
        "  x = tt.diag(x)\n",
        "  return x\n",
        "\n",
        "def G_t(d):\n",
        "  return tt.Toeplitz(tt.delta(n = 2, d = d + 1 , center = 2**d) - tt.delta(n = 2, d = d + 1 , center = 2**d - 1))\n",
        "\n",
        "def M_t(d):\n",
        "  return tt.Toeplitz(tt.delta(n = 2, d = d + 1 , center = 2**d) + tt.delta(n = 2, d = d + 1 , center = 2**d - 1))\n",
        "\n",
        "T = 10\n",
        "N = 15\n",
        "dt = T/2**N\n",
        "K = 10\n",
        "\n",
        "w = 10\n",
        "Delta = 0.1\n",
        "g = 1\n",
        "\n",
        "H_0 = (\n",
        "       w * tt.kron(tt.matrix(np.array([[1,0],[0,0]])) , tt.eye(n = 2, d = K)) + \n",
        "       tt.kron(tt.matrix(np.array([[1,0],[0,1]])), H_r(d = K, w = w + Delta, e = 0)) +\n",
        "       g * tt.kron(tt.matrix(np.array([[0,1],[1,0]])), X_hat(d = K))\n",
        "      )\n",
        "\n",
        "psi_0 = tt.kron( tt.vector(np.array([0,1])), tt.delta(n = 2, d = K, center = 4))\n",
        "\n",
        "A = tt.kron(tt.eye(n = 2, d = K + 1), G_t(N)) + (1j*dt /2) * tt.kron(H_0, M_t(N))\n",
        "b = tt.kron(psi_0, tt.delta(n = 2, d = N, center = 0))\n",
        "\n",
        "y = amen_solve(A = A, f = b, x0 = tt.ones(n = 2, d = N + K + 1), kickrank = 10, eps = 1e-8)\n",
        "\n",
        "def T_t(d, t):\n",
        "  return tt.kron(tt.kron(tt.matrix(np.array([[1,0],[0,0]])),tt.eye(n = 2, d = K)), tt.diag(tt.delta(n = 2, d = d, center = t)))\n",
        "\n",
        "a = [ np.real(tt.dot(y, tt.matvec(T_t(N,t), y))) for t in range(0,2**N,100) ] #заниает оч много времени\n",
        "plt.plot(range(0,2**N,100), a)\n",
        "plt.show()"
      ]
    },
    {
      "cell_type": "markdown",
      "metadata": {
        "id": "9VjUfRdB2-QU"
      },
      "source": [
        ""
      ]
    },
    {
      "cell_type": "markdown",
      "metadata": {
        "id": "9284tmDJOR-m"
      },
      "source": [
        "#Наработки по Grape(В РАЗРАБОТКЕ)"
      ]
    },
    {
      "cell_type": "markdown",
      "metadata": {
        "id": "jZRSoO7OOXOe"
      },
      "source": [
        "$\\hat{H}_{t} = \\hat{U} + g_{t}\\hat{V}$\n",
        "\n",
        "$A_{forward} = \\hat{G} \\otimes \\hat{1} + \\frac{i\\delta}{2}(\\hat{M}\\otimes\\hat{1})\\,\\,@\\,\\,diag(\\hat{H}_{1},...,\\hat{H}_{N})$\n",
        "\n",
        "$f_{forward} = |0> \\otimes \\,(\\frac{i\\delta}{2}\\hat{H}_{0} - \\hat{1})|\\psi_{0}>$\n",
        "\n",
        "$A_{backward} = -\\hat{G}^{\\dagger}\\otimes\\hat{1} + \\frac{i\\delta}{2}(\\hat{M}^{\\dagger}\\otimes\\hat{1})\\,@\\,diag(\\hat{H}_{0},...,\\hat{H}_{N-1})$\n",
        "\n",
        "$f_{backward} = |N-1> \\otimes\\,(\\frac{i\\delta}{2}\\hat{H}_{N} + \\hat{1})|\\psi_{N}>$\n",
        "\n",
        "$diag(\\hat{H}_{1},...,\\hat{H}_{N}) = \\hat{1} \\otimes \\hat{U} + diag(g_{1},...,g_{N})\\otimes\\hat{V}$"
      ]
    },
    {
      "cell_type": "code",
      "execution_count": null,
      "metadata": {
        "id": "WdYZY5HiNwsk"
      },
      "outputs": [],
      "source": [
        "import tt\n",
        "import numpy as np\n",
        "from tt.amen import amen_solve\n",
        "import matplotlib.pyplot as plt\n",
        "from scipy.special import factorial\n",
        "from ncon import ncon\n",
        "\n",
        "class Solver():\n",
        "  def __init__(self, d_time, d_qubit, w, e):\n",
        "\n",
        "    self.d_time = d_time\n",
        "    self.d_qubit = d_qubit\n",
        "\n",
        "    x = tt.xfun(n = 2, d = self.d_qubit)\n",
        "    x = tt.multifuncrs([x], lambda x : w*x - e*x*x, 1e-8, y0=tt.ones(n = 2, d = self.d_qubit))\n",
        "    x = tt.diag(x)\n",
        "    self.U = x #постоянная часть гамильтониана\n",
        "\n",
        "    x = tt.xfun(n = 2, d = self.d_qubit)\n",
        "    x = tt.multifuncrs([x], lambda x : np.sqrt(x), 1e-8, y0=tt.ones(n = 2, d = self.d_qubit))\n",
        "    x = tt.diag(x)\n",
        "    x = x * tt.Toeplitz(tt.delta(n = 2, d = self.d_qubit + 1 , center = 2**self.d_qubit - 1)) + tt.Toeplitz(tt.delta(n = 2, d = self.d_qubit + 1 , center = 2**self.d_qubit + 1)) * x\n",
        "    self.V = x #переменная часть гамильтониана\n",
        "\n",
        "    self.G = tt.Toeplitz(tt.delta(n = 2, d = d_time + 1 , center = 2**d_time) - tt.delta(n = 2, d = d_time + 1 , center = 2**d_time - 1))\n",
        "    self.M = tt.Toeplitz(tt.delta(n = 2, d = d_time + 1 , center = 2**d_time) + tt.delta(n = 2, d = d_time + 1 , center = 2**d_time - 1))\n",
        "\n",
        "  def forward_propagator(self, psi_0, g, time, x0 = None):\n",
        "    delta = time/2**self.d_time\n",
        "    a = tt.dot(tt.delta(n = 2, d = self.d_time, center = 0), g)\n",
        "    psi_0 = tt.matvec((1j * delta / 2)*(self.U + a * self.V) - tt.eye(n = 2, d = self.d_qubit), psi_0)\n",
        "    if x0 is None:\n",
        "      x0 = tt.ones(n = 2, d = self.d_time + self.d_qubit)\n",
        "    g = tt.matvec(tt.Toeplitz(tt.delta(n = 2, d = self.d_time + 1, center = 1) + tt.delta(n = 2, d = self.d_time + 1, center = 2**self.d_time + 1)), g) # добавить циклический сдвиг 1 -> 0\n",
        "    f = tt.kron(tt.delta(n = 2, d = self.d_time, center = 0), psi_0)\n",
        "    A =  tt.kron(self.G, tt.eye(n = 2, d = self.d_qubit)) + (1j * delta / 2) * tt.kron(self.M, tt.eye(n = 2, d = self.d_qubit))  @ (tt.kron(tt.eye(n = 2, d = self.d_time), self.U) + tt.kron(tt.diag(g), self.V))\n",
        "    A = A.round(eps = 1e-10, rmax = 10)\n",
        "    y = amen_solve(A = A, f = f, x0 = x0, kickrank = 5, nswp = 10, eps = 1e-10) \n",
        "    return y\n",
        "  \n",
        "  def backward_propagator(self, psi_N, g, time, x0 = None):\n",
        "    delta = time/2**self.d_time\n",
        "    a = tt.dot(tt.delta(n = 2, d = self.d_time, center = 0), g)\n",
        "    psi_N = tt.matvec((1j * delta / 2)*(self.U + a * self.V) + tt.eye(n = 2, d = self.d_qubit), psi_N)\n",
        "    if x0 is None:\n",
        "      x0 = tt.ones(n = 2, d = self.d_time + self.d_qubit)\n",
        "    f = tt.kron(tt.delta(n = 2, d = self.d_time, center = 2**self.d_time - 1), psi_N)\n",
        "    A = tt.kron(-1 * self.G.T, tt.eye(n = 2, d = self.d_qubit)) + (1j * delta / 2) * tt.kron(self.M.T, tt.eye(n = 2, d = self.d_qubit))  @ (tt.kron(tt.eye(n = 2, d = self.d_time), self.U) + tt.kron(tt.diag(g), self.V))\n",
        "    A = A.round(eps = 1e-10, rmax = 10)\n",
        "    y = amen_solve(A = A, f = f, x0 = x0, kickrank = 5, nswp = 10, eps = 1e-10)\n",
        "    return y\n",
        "\n",
        "  def g_gradient(self, y_forward, y_backward):\n",
        "    rg_max = 10\n",
        "    M = tt.kron(tt.Toeplitz(tt.delta(n = 2, d = self.d_time + 1, center = 2**self.d_time - 1)), self.V)\n",
        "    y_forward = tt.matvec(M, y_forward)\n",
        "\n",
        "    X = tt.vector.to_list(y_forward)\n",
        "    X_ = tt.vector.to_list(y_backward)\n",
        "    Z = np.array([[[1,0],[0,0]],[[0,0],[0,1]]])\n",
        "    Tail = np.array([[1]])\n",
        "    \n",
        "    for i in range(0, d_qubit): #частичный след\n",
        "      tensors = [Tail,X_[i].conj(),X[i]]\n",
        "      connects = [[1,2],[1,3,-1],[2,3,-2]]\n",
        "      con_order = [1,2,3]\n",
        "      Tail = ncon(tensors,connects,con_order)\n",
        "    Tail = np.array([Tail])\n",
        "\n",
        "    new_X = []\n",
        "    for i in range(d_qubit, d_qubit + d_time): #частичная диаганализация\n",
        "      tensors = [Tail,X_[i].conj(),X[i],Z]\n",
        "      connects = [[-1,2,4],[2,1,-3],[4,3,-4],[1,-2,3]]\n",
        "      con_order = [3,2,4,1]\n",
        "      T1 = ncon(tensors,connects,con_order)\n",
        "      T1 = T1.reshape(Tail.shape[0] * 2, -1)\n",
        "      u, s, vh = la.svd(T1) \n",
        "      rg_true = min(rg_max, len(s)) #ограничние ранга\n",
        "      u = u[:,:rg_true]\n",
        "      s = s[:rg_true]\n",
        "      vh = vh[:rg_true,:]\n",
        "      new_X.append(u.reshape(-1,2,rg_true))\n",
        "      Tail = vh.reshape(-1, X_[i].shape[2], X[i].shape[2]) \n",
        "    return (Tail[0,0,0] * tt.vector.from_list(new_X)).imag()\n",
        "\n"
      ]
    },
    {
      "cell_type": "code",
      "execution_count": null,
      "metadata": {
        "colab": {
          "base_uri": "https://localhost:8080/"
        },
        "id": "Qk25FN4RynJM",
        "outputId": "ecb476fa-4354-4a08-ec5c-a00fed4ac603"
      },
      "outputs": [
        {
          "output_type": "stream",
          "name": "stdout",
          "text": [
            "=multifuncrs= sweep 1{2}, max_dy: 7.729e-01, erank: 1.63299\n",
            "=multifuncrs= sweep 2{1}, max_dy: 2.276e-16, erank: 2.16025\n",
            "=multifuncrs= sweep 2{2}, max_dy: 2.612e-16, erank: 2.16025\n",
            "=multifuncrs= sweep 3{1}, max_dy: 0.000e+00, erank: 1.63299\n",
            "=multifuncrs= sweep 1{2}, max_dy: 5.046e-01, erank: 1.63299\n",
            "=multifuncrs= sweep 2{1}, max_dy: 1.761e-01, erank: 1.91485\n",
            "=multifuncrs= sweep 2{2}, max_dy: 1.761e-01, erank: 1.91485\n",
            "=multifuncrs= sweep 3{1}, max_dy: 6.795e-16, erank: 2.16025\n",
            "=multifuncrs= sweep 3{2}, max_dy: 6.795e-16, erank: 1.91485\n",
            "=multifuncrs= sweep 4{1}, max_dy: 0.000e+00, erank: 1.63299\n",
            "0\n",
            "1\n",
            "2\n",
            "3\n",
            "4\n",
            "5\n",
            "6\n",
            "7\n",
            "8\n",
            "9\n",
            "10\n",
            "11\n",
            "12\n",
            "13\n",
            "14\n",
            "15\n",
            "16\n",
            "17\n",
            "18\n",
            "19\n",
            "20\n",
            "21\n",
            "22\n",
            "23\n",
            "24\n",
            "25\n",
            "26\n",
            "27\n",
            "28\n",
            "29\n",
            "30\n",
            "31\n",
            "32\n",
            "33\n",
            "34\n",
            "35\n",
            "36\n",
            "37\n",
            "38\n",
            "39\n",
            "40\n",
            "41\n",
            "42\n",
            "43\n",
            "44\n",
            "45\n",
            "46\n",
            "47\n",
            "48\n",
            "49\n",
            "50\n",
            "51\n",
            "52\n",
            "53\n",
            "54\n",
            "55\n",
            "56\n",
            "57\n",
            "58\n",
            "59\n",
            "60\n",
            "61\n",
            "62\n",
            "63\n",
            "64\n",
            "65\n",
            "66\n",
            "67\n",
            "68\n",
            "69\n",
            "70\n",
            "71\n",
            "72\n",
            "73\n",
            "74\n",
            "75\n",
            "76\n",
            "77\n",
            "78\n",
            "79\n",
            "80\n",
            "81\n",
            "82\n",
            "83\n",
            "84\n",
            "85\n",
            "86\n",
            "87\n",
            "88\n",
            "89\n",
            "90\n",
            "91\n",
            "92\n",
            "93\n",
            "94\n",
            "95\n",
            "96\n",
            "97\n",
            "98\n",
            "99\n",
            "100\n",
            "101\n",
            "102\n",
            "103\n",
            "104\n",
            "105\n",
            "106\n",
            "107\n",
            "108\n",
            "109\n",
            "110\n",
            "111\n",
            "112\n",
            "113\n",
            "114\n",
            "115\n",
            "116\n",
            "117\n",
            "118\n",
            "119\n",
            "120\n",
            "121\n",
            "122\n",
            "123\n",
            "124\n",
            "125\n",
            "126\n",
            "127\n",
            "128\n",
            "129\n",
            "130\n",
            "131\n",
            "132\n",
            "133\n",
            "134\n",
            "135\n",
            "136\n",
            "137\n",
            "138\n",
            "139\n",
            "140\n",
            "141\n",
            "142\n",
            "143\n",
            "144\n",
            "145\n",
            "146\n",
            "147\n",
            "148\n",
            "149\n",
            "150\n",
            "151\n",
            "152\n",
            "153\n",
            "154\n",
            "155\n",
            "156\n",
            "157\n",
            "158\n",
            "159\n",
            "160\n",
            "161\n",
            "162\n",
            "163\n",
            "164\n",
            "165\n",
            "166\n",
            "167\n",
            "168\n",
            "169\n",
            "170\n",
            "171\n",
            "172\n",
            "173\n",
            "174\n",
            "175\n",
            "176\n",
            "177\n",
            "178\n",
            "179\n",
            "180\n",
            "181\n",
            "182\n",
            "183\n",
            "184\n",
            "185\n",
            "186\n",
            "187\n",
            "188\n",
            "189\n",
            "190\n",
            "191\n",
            "192\n",
            "193\n",
            "194\n",
            "195\n",
            "196\n",
            "197\n",
            "198\n",
            "199\n",
            "200\n",
            "201\n",
            "202\n",
            "203\n",
            "204\n",
            "205\n",
            "206\n",
            "207\n",
            "208\n",
            "209\n",
            "210\n",
            "211\n",
            "212\n",
            "213\n",
            "214\n",
            "215\n",
            "216\n",
            "217\n",
            "218\n",
            "219\n",
            "220\n",
            "221\n",
            "222\n",
            "223\n",
            "224\n",
            "225\n",
            "226\n",
            "227\n",
            "228\n",
            "229\n",
            "230\n",
            "231\n",
            "232\n",
            "233\n",
            "234\n",
            "235\n",
            "236\n",
            "237\n",
            "238\n",
            "239\n",
            "240\n",
            "241\n",
            "242\n",
            "243\n",
            "244\n",
            "245\n",
            "246\n",
            "247\n",
            "248\n",
            "249\n",
            "250\n",
            "251\n",
            "252\n",
            "253\n",
            "254\n",
            "255\n",
            "256\n",
            "257\n",
            "258\n",
            "259\n",
            "260\n",
            "261\n",
            "262\n",
            "263\n",
            "264\n",
            "265\n",
            "266\n",
            "267\n",
            "268\n",
            "269\n",
            "270\n",
            "271\n",
            "272\n",
            "273\n",
            "274\n",
            "275\n",
            "276\n",
            "277\n",
            "278\n",
            "279\n",
            "280\n",
            "281\n",
            "282\n",
            "283\n",
            "284\n",
            "285\n",
            "286\n",
            "287\n",
            "288\n",
            "289\n",
            "290\n",
            "291\n",
            "292\n",
            "293\n",
            "294\n",
            "295\n",
            "296\n",
            "297\n",
            "298\n",
            "299\n"
          ]
        }
      ],
      "source": [
        "d_time = 7\n",
        "d_qubit = 3\n",
        "time = 4 * 6.28\n",
        "dt = time/2**d_time\n",
        "\n",
        "w = 1\n",
        "e = 0.01\n",
        "\n",
        "solver = Solver(d_time = d_time, d_qubit = d_qubit, w = w, e = e)\n",
        "psi_0 = tt.delta(n = 2, d = d_qubit, center = 0)\n",
        "psi_N = np.sqrt(0.5) * (tt.delta(n = 2, d = d_qubit, center = 1) + tt.delta(n = 2, d = d_qubit, center = 0))\n",
        "g = 0.001 * tt.rand(n = 2, d = d_time, r = 3)\n",
        "\n",
        "N = 300\n",
        "y1 = tt.ones(n = 2, d = d_time + d_qubit)\n",
        "y2 = tt.ones(n = 2, d = d_time + d_qubit)\n",
        "for i in range(N):\n",
        "  y1 = solver.forward_propagator(psi_0 = psi_0, g = g, time = time, x0 = y1)\n",
        "  y2 = solver.backward_propagator(psi_N = psi_N, g = g, time = time, x0 = y2)\n",
        "  dg = solver.g_gradient(y_forward = y1, y_backward = y2)\n",
        "  g = (g - 0.5 * dg).round(eps = 1e-10, rmax = 10)\n",
        "  print(i)\n"
      ]
    },
    {
      "cell_type": "code",
      "execution_count": null,
      "metadata": {
        "colab": {
          "base_uri": "https://localhost:8080/",
          "height": 568
        },
        "id": "9acZjImFKZyc",
        "outputId": "3fdf2c31-e287-4d2e-d19d-cc2d1dfe78f0"
      },
      "outputs": [
        {
          "output_type": "display_data",
          "data": {
            "image/png": "[encoded data removed]",
            "text/plain": [
              "<Figure size 432x288 with 1 Axes>"
            ]
          },
          "metadata": {
            "needs_background": "light"
          }
        },
        {
          "output_type": "stream",
          "name": "stderr",
          "text": [
            "/usr/local/lib/python3.7/dist-packages/numpy/core/_asarray.py:83: ComplexWarning: Casting complex values to real discards the imaginary part\n",
            "  return array(a, dtype, copy=False, order=order)\n"
          ]
        },
        {
          "output_type": "display_data",
          "data": {
            "image/png": "[encoded data removed]",
            "text/plain": [
              "<Figure size 432x288 with 1 Axes>"
            ]
          },
          "metadata": {
            "needs_background": "light"
          }
        }
      ],
      "source": [
        " a = [ tt.dot(g, tt.delta(n = 2, d = d_time, center = t)) for t in range(2**d_time)]\n",
        " plt.plot(range(2**d_time), a)\n",
        " plt.show()\n",
        "\n",
        "def T(n, t):\n",
        "  d1 = tt.delta(n = 2, d = d_time, center = t)\n",
        "  d2 = tt.delta(n = 2, d = d_qubit, center = n)\n",
        "  return tt.diag(tt.kron(d1, d2))\n",
        "\n",
        "y = solver.forward_propagator(psi_0 = psi_0, g = g, time = time)\n",
        "a0 = [tt.dot(y, tt.matvec(T(0, t), y)) for t in range(2**d_time)]\n",
        "a1 = [tt.dot(y, tt.matvec(T(1, t), y)) for t in range(2**d_time)]\n",
        "plt.plot(range(2**d_time), a0)\n",
        "plt.plot(range(2**d_time), a1)\n",
        "plt.show()"
      ]
    }
  ],
  "metadata": {
    "colab": {
      "collapsed_sections": [],
      "name": "Diplom.ipynb",
      "provenance": [],
      "authorship_tag": "ABX9TyOVSkiJcVsHesb7Vm7NghyQ",
      "include_colab_link": true
    },
    "kernelspec": {
      "display_name": "Python 3",
      "name": "python3"
    },
    "language_info": {
      "name": "python"
    }
  },
  "nbformat": 4,
  "nbformat_minor": 0
}